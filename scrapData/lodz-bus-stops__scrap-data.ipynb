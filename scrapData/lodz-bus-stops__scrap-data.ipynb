{
 "cells": [
  {
   "cell_type": "markdown",
   "metadata": {},
   "source": [
    "# MPK - scrap data"
   ]
  },
  {
   "cell_type": "markdown",
   "metadata": {},
   "source": [
    "#### Import "
   ]
  },
  {
   "cell_type": "code",
   "execution_count": 33,
   "metadata": {},
   "outputs": [],
   "source": [
    "import requests\n",
    "import json\n",
    "from bs4 import BeautifulSoup\n",
    "import pandas as pd\n",
    "from geopy.geocoders import Nominatim"
   ]
  },
  {
   "cell_type": "markdown",
   "metadata": {},
   "source": [
    "#### Check one"
   ]
  },
  {
   "cell_type": "code",
   "execution_count": 97,
   "metadata": {},
   "outputs": [],
   "source": [
    "url = \"http://www.mpk.lodz.pl/rozklady/przystanki.jsp\"\n",
    "streets = get_streets(url)\n",
    "street = streets[0]\n",
    "street_name = find_street_name(street)"
   ]
  },
  {
   "cell_type": "code",
   "execution_count": 101,
   "metadata": {},
   "outputs": [
    {
     "data": {
      "text/plain": [
       "'Dubois'"
      ]
     },
     "execution_count": 101,
     "metadata": {},
     "output_type": "execute_result"
    }
   ],
   "source": [
    "stop = street.findAll('li')[0]\n",
    "element = stop.text\n",
    "# space_place = element.find('\\xa0')\n",
    "space_place = element.find(' (')\n",
    "street_name = element[0:space_place]\n",
    "street_name"
   ]
  },
  {
   "cell_type": "code",
   "execution_count": 99,
   "metadata": {},
   "outputs": [
    {
     "data": {
      "text/plain": [
       "'Dubois (Zgierz) \\xa0 (3033, 3032)'"
      ]
     },
     "execution_count": 99,
     "metadata": {},
     "output_type": "execute_result"
    }
   ],
   "source": [
    "element"
   ]
  },
  {
   "cell_type": "markdown",
   "metadata": {},
   "source": [
    "#### Scrap functions"
   ]
  },
  {
   "cell_type": "code",
   "execution_count": 105,
   "metadata": {},
   "outputs": [],
   "source": [
    "def get_streets(url):\n",
    "    results = requests.get(url)\n",
    "    src = results.content\n",
    "    soup = BeautifulSoup(src, 'html')\n",
    "    schedule = soup.find('ul', {'id':'ulStreets'})\n",
    "    stops = schedule.findAll('li', recursive=False)\n",
    "    return stops\n",
    "\n",
    "def find_street_name(stop):\n",
    "    string_place = stop.text.find('\\xa0')\n",
    "    text = stop.text[0:string_place]\n",
    "    return text\n",
    "\n",
    "def find_stop_nums(street):\n",
    "    stops_nums = street.find('a')['href'].replace('przystanek.jsp?stopNumber=','')\n",
    "    return stops_nums\n",
    "\n",
    "def find_stop_name(street):\n",
    "    element = street.text\n",
    "    space_place = element.find('\\xa0')\n",
    "#     space_place = element.find(' (')\n",
    "    street_name = element[0:space_place]\n",
    "    return street_name"
   ]
  },
  {
   "cell_type": "markdown",
   "metadata": {},
   "source": [
    "#### Scrap loop"
   ]
  },
  {
   "cell_type": "code",
   "execution_count": 110,
   "metadata": {},
   "outputs": [],
   "source": [
    "url = \"http://www.mpk.lodz.pl/rozklady/przystanki.jsp\"\n",
    "stops = get_stops(url)\n",
    "data = []\n",
    "for stop in stops:\n",
    "    streets = stop.findAll('li')\n",
    "    for street in streets:\n",
    "        obj = {};\n",
    "        obj['street_name'] = find_street_name(stop)\n",
    "        obj['stops_number'] = [find_stop_nums(street)]\n",
    "        obj['stop_name_dirty'] = find_stop_name(street).replace(' \\xa0','')\n",
    "        data.append(obj)"
   ]
  },
  {
   "cell_type": "markdown",
   "metadata": {},
   "source": [
    "#### Padnas DF and save to csv"
   ]
  },
  {
   "cell_type": "code",
   "execution_count": 114,
   "metadata": {},
   "outputs": [
    {
     "data": {
      "text/html": [
       "<div>\n",
       "<style scoped>\n",
       "    .dataframe tbody tr th:only-of-type {\n",
       "        vertical-align: middle;\n",
       "    }\n",
       "\n",
       "    .dataframe tbody tr th {\n",
       "        vertical-align: top;\n",
       "    }\n",
       "\n",
       "    .dataframe thead th {\n",
       "        text-align: right;\n",
       "    }\n",
       "</style>\n",
       "<table border=\"1\" class=\"dataframe\">\n",
       "  <thead>\n",
       "    <tr style=\"text-align: right;\">\n",
       "      <th></th>\n",
       "      <th>street_name</th>\n",
       "      <th>stops_number</th>\n",
       "      <th>stop_name_dirty</th>\n",
       "    </tr>\n",
       "  </thead>\n",
       "  <tbody>\n",
       "    <tr>\n",
       "      <th>0</th>\n",
       "      <td>1 Maja</td>\n",
       "      <td>[3033,3032]</td>\n",
       "      <td>Dubois (Zgierz)</td>\n",
       "    </tr>\n",
       "    <tr>\n",
       "      <th>1</th>\n",
       "      <td>1 Maja</td>\n",
       "      <td>[3303,3304]</td>\n",
       "      <td>MDK (Aleksandrów)</td>\n",
       "    </tr>\n",
       "    <tr>\n",
       "      <th>2</th>\n",
       "      <td>1 Maja</td>\n",
       "      <td>[3262,3034]</td>\n",
       "      <td>Piłsudskiego (Zgierz)</td>\n",
       "    </tr>\n",
       "    <tr>\n",
       "      <th>3</th>\n",
       "      <td>1 Maja</td>\n",
       "      <td>[0523]</td>\n",
       "      <td>Pogonowskiego</td>\n",
       "    </tr>\n",
       "    <tr>\n",
       "      <th>4</th>\n",
       "      <td>1 Maja</td>\n",
       "      <td>[3030]</td>\n",
       "      <td>plac Kilińskiego (Zgierz)</td>\n",
       "    </tr>\n",
       "    <tr>\n",
       "      <th>...</th>\n",
       "      <td>...</td>\n",
       "      <td>...</td>\n",
       "      <td>...</td>\n",
       "    </tr>\n",
       "    <tr>\n",
       "      <th>1328</th>\n",
       "      <td>Przystanki nie przypisane do ulicy</td>\n",
       "      <td>[3409,3410]</td>\n",
       "      <td>Łódzka(Brzeziny)</td>\n",
       "    </tr>\n",
       "    <tr>\n",
       "      <th>1329</th>\n",
       "      <td>Przystanki nie przypisane do ulicy</td>\n",
       "      <td>[3061]</td>\n",
       "      <td>Śniechowskiego (Zgierz)</td>\n",
       "    </tr>\n",
       "    <tr>\n",
       "      <th>1330</th>\n",
       "      <td>Przystanki nie przypisane do ulicy</td>\n",
       "      <td>[2233]</td>\n",
       "      <td>Żubardź</td>\n",
       "    </tr>\n",
       "    <tr>\n",
       "      <th>1331</th>\n",
       "      <td>Przystanki nie przypisane do ulicy</td>\n",
       "      <td>[3403]</td>\n",
       "      <td>św. Anny</td>\n",
       "    </tr>\n",
       "    <tr>\n",
       "      <th>1332</th>\n",
       "      <td>Przystanki nie przypisane do ulicy</td>\n",
       "      <td>[3186]</td>\n",
       "      <td>św. Anny 27-31(Brzeziny)</td>\n",
       "    </tr>\n",
       "  </tbody>\n",
       "</table>\n",
       "<p>1333 rows × 3 columns</p>\n",
       "</div>"
      ],
      "text/plain": [
       "                              street_name stops_number  \\\n",
       "0                                 1 Maja   [3033,3032]   \n",
       "1                                 1 Maja   [3303,3304]   \n",
       "2                                 1 Maja   [3262,3034]   \n",
       "3                                 1 Maja        [0523]   \n",
       "4                                 1 Maja        [3030]   \n",
       "...                                   ...          ...   \n",
       "1328  Przystanki nie przypisane do ulicy   [3409,3410]   \n",
       "1329  Przystanki nie przypisane do ulicy        [3061]   \n",
       "1330  Przystanki nie przypisane do ulicy        [2233]   \n",
       "1331  Przystanki nie przypisane do ulicy        [3403]   \n",
       "1332  Przystanki nie przypisane do ulicy        [3186]   \n",
       "\n",
       "                 stop_name_dirty  \n",
       "0               Dubois (Zgierz)   \n",
       "1             MDK (Aleksandrów)   \n",
       "2         Piłsudskiego (Zgierz)   \n",
       "3                 Pogonowskiego   \n",
       "4     plac Kilińskiego (Zgierz)   \n",
       "...                          ...  \n",
       "1328           Łódzka(Brzeziny)   \n",
       "1329    Śniechowskiego (Zgierz)   \n",
       "1330                    Żubardź   \n",
       "1331                   św. Anny   \n",
       "1332   św. Anny 27-31(Brzeziny)   \n",
       "\n",
       "[1333 rows x 3 columns]"
      ]
     },
     "execution_count": 114,
     "metadata": {},
     "output_type": "execute_result"
    }
   ],
   "source": [
    "df = pd.DataFrame(data)\n",
    "df"
   ]
  },
  {
   "cell_type": "code",
   "execution_count": 112,
   "metadata": {},
   "outputs": [],
   "source": [
    "df.to_csv(\"stops.csv\", index=False)"
   ]
  },
  {
   "cell_type": "code",
   "execution_count": null,
   "metadata": {},
   "outputs": [],
   "source": []
  },
  {
   "cell_type": "code",
   "execution_count": null,
   "metadata": {},
   "outputs": [],
   "source": []
  }
 ],
 "metadata": {
  "kernelspec": {
   "display_name": "Python 3",
   "language": "python",
   "name": "python3"
  },
  "language_info": {
   "codemirror_mode": {
    "name": "ipython",
    "version": 3
   },
   "file_extension": ".py",
   "mimetype": "text/x-python",
   "name": "python",
   "nbconvert_exporter": "python",
   "pygments_lexer": "ipython3",
   "version": "3.6.8"
  }
 },
 "nbformat": 4,
 "nbformat_minor": 2
}
