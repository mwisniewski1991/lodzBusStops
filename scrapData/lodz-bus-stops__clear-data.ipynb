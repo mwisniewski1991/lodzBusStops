{
 "cells": [
  {
   "cell_type": "markdown",
   "metadata": {},
   "source": [
    "# MPK - clear data"
   ]
  },
  {
   "cell_type": "markdown",
   "metadata": {},
   "source": [
    "#### Import "
   ]
  },
  {
   "cell_type": "code",
   "execution_count": 112,
   "metadata": {},
   "outputs": [],
   "source": [
    "import pandas as pd\n",
    "from geopy.geocoders import Nominatim"
   ]
  },
  {
   "cell_type": "markdown",
   "metadata": {},
   "source": [
    "#### Read data"
   ]
  },
  {
   "cell_type": "code",
   "execution_count": 180,
   "metadata": {},
   "outputs": [
    {
     "data": {
      "text/html": [
       "<div>\n",
       "<style scoped>\n",
       "    .dataframe tbody tr th:only-of-type {\n",
       "        vertical-align: middle;\n",
       "    }\n",
       "\n",
       "    .dataframe tbody tr th {\n",
       "        vertical-align: top;\n",
       "    }\n",
       "\n",
       "    .dataframe thead th {\n",
       "        text-align: right;\n",
       "    }\n",
       "</style>\n",
       "<table border=\"1\" class=\"dataframe\">\n",
       "  <thead>\n",
       "    <tr style=\"text-align: right;\">\n",
       "      <th></th>\n",
       "      <th>street_name</th>\n",
       "      <th>stops_number</th>\n",
       "      <th>stop_name_dirty</th>\n",
       "    </tr>\n",
       "  </thead>\n",
       "  <tbody>\n",
       "    <tr>\n",
       "      <th>0</th>\n",
       "      <td>1 Maja</td>\n",
       "      <td>['3033,3032']</td>\n",
       "      <td>Dubois (Zgierz)</td>\n",
       "    </tr>\n",
       "    <tr>\n",
       "      <th>1</th>\n",
       "      <td>1 Maja</td>\n",
       "      <td>['3303,3304']</td>\n",
       "      <td>MDK (Aleksandrów)</td>\n",
       "    </tr>\n",
       "    <tr>\n",
       "      <th>2</th>\n",
       "      <td>1 Maja</td>\n",
       "      <td>['3262,3034']</td>\n",
       "      <td>Piłsudskiego (Zgierz)</td>\n",
       "    </tr>\n",
       "    <tr>\n",
       "      <th>3</th>\n",
       "      <td>1 Maja</td>\n",
       "      <td>['0523']</td>\n",
       "      <td>Pogonowskiego</td>\n",
       "    </tr>\n",
       "    <tr>\n",
       "      <th>4</th>\n",
       "      <td>1 Maja</td>\n",
       "      <td>['3030']</td>\n",
       "      <td>plac Kilińskiego (Zgierz)</td>\n",
       "    </tr>\n",
       "  </tbody>\n",
       "</table>\n",
       "</div>"
      ],
      "text/plain": [
       "  street_name   stops_number             stop_name_dirty\n",
       "0     1 Maja   ['3033,3032']            Dubois (Zgierz) \n",
       "1     1 Maja   ['3303,3304']          MDK (Aleksandrów) \n",
       "2     1 Maja   ['3262,3034']      Piłsudskiego (Zgierz) \n",
       "3     1 Maja        ['0523']              Pogonowskiego \n",
       "4     1 Maja        ['3030']  plac Kilińskiego (Zgierz) "
      ]
     },
     "execution_count": 180,
     "metadata": {},
     "output_type": "execute_result"
    }
   ],
   "source": [
    "df = pd.read_csv('stops.csv')\n",
    "df.head()"
   ]
  },
  {
   "cell_type": "code",
   "execution_count": 181,
   "metadata": {},
   "outputs": [
    {
     "name": "stdout",
     "output_type": "stream",
     "text": [
      "<class 'pandas.core.frame.DataFrame'>\n",
      "RangeIndex: 1333 entries, 0 to 1332\n",
      "Data columns (total 3 columns):\n",
      "street_name        1333 non-null object\n",
      "stops_number       1333 non-null object\n",
      "stop_name_dirty    1333 non-null object\n",
      "dtypes: object(3)\n",
      "memory usage: 31.4+ KB\n"
     ]
    }
   ],
   "source": [
    "df.info()"
   ]
  },
  {
   "cell_type": "markdown",
   "metadata": {},
   "source": [
    "#### Add NŻ (na żadanie) to df and clear it from column"
   ]
  },
  {
   "cell_type": "code",
   "execution_count": 192,
   "metadata": {},
   "outputs": [],
   "source": [
    "def add_stop_type(string):\n",
    "    letter_place = string.find(\"NŻ\")\n",
    "    if letter_place != -1:\n",
    "        return True\n",
    "    else:\n",
    "        return False\n",
    "    \n",
    "def clear_demand_info(string):\n",
    "    clear_string = string.replace(\"NŻ\",\"\").strip()\n",
    "    return clear_string"
   ]
  },
  {
   "cell_type": "code",
   "execution_count": 185,
   "metadata": {},
   "outputs": [
    {
     "data": {
      "text/html": [
       "<div>\n",
       "<style scoped>\n",
       "    .dataframe tbody tr th:only-of-type {\n",
       "        vertical-align: middle;\n",
       "    }\n",
       "\n",
       "    .dataframe tbody tr th {\n",
       "        vertical-align: top;\n",
       "    }\n",
       "\n",
       "    .dataframe thead th {\n",
       "        text-align: right;\n",
       "    }\n",
       "</style>\n",
       "<table border=\"1\" class=\"dataframe\">\n",
       "  <thead>\n",
       "    <tr style=\"text-align: right;\">\n",
       "      <th></th>\n",
       "      <th>street_name</th>\n",
       "      <th>stops_number</th>\n",
       "      <th>stop_name_dirty</th>\n",
       "      <th>demand_stop</th>\n",
       "    </tr>\n",
       "  </thead>\n",
       "  <tbody>\n",
       "    <tr>\n",
       "      <th>0</th>\n",
       "      <td>1 Maja</td>\n",
       "      <td>['3033,3032']</td>\n",
       "      <td>Dubois (Zgierz)</td>\n",
       "      <td>False</td>\n",
       "    </tr>\n",
       "    <tr>\n",
       "      <th>1</th>\n",
       "      <td>1 Maja</td>\n",
       "      <td>['3303,3304']</td>\n",
       "      <td>MDK (Aleksandrów)</td>\n",
       "      <td>False</td>\n",
       "    </tr>\n",
       "    <tr>\n",
       "      <th>2</th>\n",
       "      <td>1 Maja</td>\n",
       "      <td>['3262,3034']</td>\n",
       "      <td>Piłsudskiego (Zgierz)</td>\n",
       "      <td>False</td>\n",
       "    </tr>\n",
       "  </tbody>\n",
       "</table>\n",
       "</div>"
      ],
      "text/plain": [
       "  street_name   stops_number        stop_name_dirty  demand_stop\n",
       "0     1 Maja   ['3033,3032']        Dubois (Zgierz)        False\n",
       "1     1 Maja   ['3303,3304']      MDK (Aleksandrów)        False\n",
       "2     1 Maja   ['3262,3034']  Piłsudskiego (Zgierz)        False"
      ]
     },
     "execution_count": 185,
     "metadata": {},
     "output_type": "execute_result"
    }
   ],
   "source": [
    "df['demand_stop'] = df['stop_name_dirty'].apply(add_stop_type)\n",
    "df['stop_name_dirty'] = df['stop_name_dirty'].apply(clear_demand_info)\n",
    "df.head(3)"
   ]
  },
  {
   "cell_type": "markdown",
   "metadata": {},
   "source": [
    "#### Clear stop name and add city"
   ]
  },
  {
   "cell_type": "code",
   "execution_count": 186,
   "metadata": {},
   "outputs": [],
   "source": [
    "def get_clear_stop(string):\n",
    "    letter_place = string.find(\"(\")\n",
    "    if letter_place != -1:\n",
    "        clear_stop = string[0:letter_place].replace(' ','')\n",
    "        return clear_stop\n",
    "    else:\n",
    "        return string\n",
    "    \n",
    "def get_city(string):\n",
    "    letter_place = string.find(\"(\")\n",
    "    if letter_place != -1:\n",
    "        city = string[letter_place:].replace('(','').replace(')','')\n",
    "        return city\n",
    "    else:\n",
    "        return \"Łódź\""
   ]
  },
  {
   "cell_type": "code",
   "execution_count": 189,
   "metadata": {},
   "outputs": [],
   "source": [
    "df['stop_name'] = df['stop_name_dirty'].apply(get_clear_stop)\n",
    "df['city'] = df['stop_name_dirty'].apply(get_city)"
   ]
  },
  {
   "cell_type": "code",
   "execution_count": 190,
   "metadata": {},
   "outputs": [
    {
     "data": {
      "text/html": [
       "<div>\n",
       "<style scoped>\n",
       "    .dataframe tbody tr th:only-of-type {\n",
       "        vertical-align: middle;\n",
       "    }\n",
       "\n",
       "    .dataframe tbody tr th {\n",
       "        vertical-align: top;\n",
       "    }\n",
       "\n",
       "    .dataframe thead th {\n",
       "        text-align: right;\n",
       "    }\n",
       "</style>\n",
       "<table border=\"1\" class=\"dataframe\">\n",
       "  <thead>\n",
       "    <tr style=\"text-align: right;\">\n",
       "      <th></th>\n",
       "      <th>street_name</th>\n",
       "      <th>stops_number</th>\n",
       "      <th>stop_name_dirty</th>\n",
       "      <th>demand_stop</th>\n",
       "      <th>stop_name</th>\n",
       "      <th>city</th>\n",
       "    </tr>\n",
       "  </thead>\n",
       "  <tbody>\n",
       "    <tr>\n",
       "      <th>0</th>\n",
       "      <td>1 Maja</td>\n",
       "      <td>['3033,3032']</td>\n",
       "      <td>Dubois (Zgierz)</td>\n",
       "      <td>False</td>\n",
       "      <td>Dubois</td>\n",
       "      <td>Zgierz</td>\n",
       "    </tr>\n",
       "    <tr>\n",
       "      <th>1</th>\n",
       "      <td>1 Maja</td>\n",
       "      <td>['3303,3304']</td>\n",
       "      <td>MDK (Aleksandrów)</td>\n",
       "      <td>False</td>\n",
       "      <td>MDK</td>\n",
       "      <td>Aleksandrów</td>\n",
       "    </tr>\n",
       "    <tr>\n",
       "      <th>2</th>\n",
       "      <td>1 Maja</td>\n",
       "      <td>['3262,3034']</td>\n",
       "      <td>Piłsudskiego (Zgierz)</td>\n",
       "      <td>False</td>\n",
       "      <td>Piłsudskiego</td>\n",
       "      <td>Zgierz</td>\n",
       "    </tr>\n",
       "    <tr>\n",
       "      <th>3</th>\n",
       "      <td>1 Maja</td>\n",
       "      <td>['0523']</td>\n",
       "      <td>Pogonowskiego</td>\n",
       "      <td>False</td>\n",
       "      <td>Pogonowskiego</td>\n",
       "      <td>Łódź</td>\n",
       "    </tr>\n",
       "    <tr>\n",
       "      <th>4</th>\n",
       "      <td>1 Maja</td>\n",
       "      <td>['3030']</td>\n",
       "      <td>plac Kilińskiego (Zgierz)</td>\n",
       "      <td>False</td>\n",
       "      <td>placKilińskiego</td>\n",
       "      <td>Zgierz</td>\n",
       "    </tr>\n",
       "  </tbody>\n",
       "</table>\n",
       "</div>"
      ],
      "text/plain": [
       "  street_name   stops_number            stop_name_dirty  demand_stop  \\\n",
       "0     1 Maja   ['3033,3032']            Dubois (Zgierz)        False   \n",
       "1     1 Maja   ['3303,3304']          MDK (Aleksandrów)        False   \n",
       "2     1 Maja   ['3262,3034']      Piłsudskiego (Zgierz)        False   \n",
       "3     1 Maja        ['0523']              Pogonowskiego        False   \n",
       "4     1 Maja        ['3030']  plac Kilińskiego (Zgierz)        False   \n",
       "\n",
       "         stop_name         city  \n",
       "0           Dubois       Zgierz  \n",
       "1              MDK  Aleksandrów  \n",
       "2     Piłsudskiego       Zgierz  \n",
       "3    Pogonowskiego         Łódź  \n",
       "4  placKilińskiego       Zgierz  "
      ]
     },
     "execution_count": 190,
     "metadata": {},
     "output_type": "execute_result"
    }
   ],
   "source": [
    "df.head()"
   ]
  },
  {
   "cell_type": "code",
   "execution_count": 196,
   "metadata": {},
   "outputs": [
    {
     "data": {
      "text/plain": [
       "array(['Zgierz', 'Aleksandrów', 'Łódź', 'Lutomiersk', 'Brzeziny',\n",
       "       'Andrespol', 'Aleks.', 'Zgierz #', 'Konst.', 'Konstantynów',\n",
       "       'Dw. Ł. Kaliska', 'ZOO', 'Fala', 'Ozorków', 'Stryków', 'Pabianice',\n",
       "       'kampus UŁ', 'Zg.', 'Wi-Ma', 'kampus PŁ', 'Rzgów', 'Ericsson',\n",
       "       'Rąbień', 'Anton. #', 'EC1 Centr. Nauki', 'Planetarium', 'Pab.',\n",
       "       'Konstantynów #', 'LO nr 1', 'Ksawerów', 'Smolice', 'Kania Góra',\n",
       "       'Rosanów', 'osiedle', 'Kazimierz', 'szkoła'], dtype=object)"
      ]
     },
     "execution_count": 196,
     "metadata": {},
     "output_type": "execute_result"
    }
   ],
   "source": [
    "df['city'].unique()"
   ]
  },
  {
   "cell_type": "markdown",
   "metadata": {},
   "source": [
    "#### Clear city column"
   ]
  },
  {
   "cell_type": "markdown",
   "metadata": {},
   "source": [
    "#### Get city "
   ]
  },
  {
   "cell_type": "code",
   "execution_count": 89,
   "metadata": {},
   "outputs": [
    {
     "data": {
      "text/html": [
       "<div>\n",
       "<style scoped>\n",
       "    .dataframe tbody tr th:only-of-type {\n",
       "        vertical-align: middle;\n",
       "    }\n",
       "\n",
       "    .dataframe tbody tr th {\n",
       "        vertical-align: top;\n",
       "    }\n",
       "\n",
       "    .dataframe thead th {\n",
       "        text-align: right;\n",
       "    }\n",
       "</style>\n",
       "<table border=\"1\" class=\"dataframe\">\n",
       "  <thead>\n",
       "    <tr style=\"text-align: right;\">\n",
       "      <th></th>\n",
       "      <th>street_name</th>\n",
       "      <th>stops_number</th>\n",
       "      <th>stop_name</th>\n",
       "    </tr>\n",
       "  </thead>\n",
       "  <tbody>\n",
       "  </tbody>\n",
       "</table>\n",
       "</div>"
      ],
      "text/plain": [
       "Empty DataFrame\n",
       "Columns: [street_name, stops_number, stop_name]\n",
       "Index: []"
      ]
     },
     "execution_count": 89,
     "metadata": {},
     "output_type": "execute_result"
    }
   ],
   "source": [
    "condition = df['stop_name'].isin([\"Z\"])\n",
    "df[condition]"
   ]
  },
  {
   "cell_type": "code",
   "execution_count": null,
   "metadata": {},
   "outputs": [],
   "source": []
  },
  {
   "cell_type": "code",
   "execution_count": null,
   "metadata": {},
   "outputs": [],
   "source": []
  },
  {
   "cell_type": "markdown",
   "metadata": {},
   "source": [
    "#### Find latitude and longitude"
   ]
  },
  {
   "cell_type": "code",
   "execution_count": 5,
   "metadata": {},
   "outputs": [],
   "source": [
    "gc = Nominatim(user_agent=\"my-application\")"
   ]
  },
  {
   "cell_type": "code",
   "execution_count": 6,
   "metadata": {},
   "outputs": [
    {
     "data": {
      "text/plain": [
       "Location(Brzezińska - Kerna, Dolina Łódki, Łukaszew, Łódź-Widzew, Łódź, województwo łódzkie, Polska, (51.79670005, 19.513089758813365, 0.0))"
      ]
     },
     "execution_count": 6,
     "metadata": {},
     "output_type": "execute_result"
    }
   ],
   "source": [
    "location = gc.geocode('Brzezińska Kerna, Lodz, Poland')\n",
    "location"
   ]
  },
  {
   "cell_type": "code",
   "execution_count": 7,
   "metadata": {},
   "outputs": [
    {
     "data": {
      "text/plain": [
       "Location(1 Maja/Piłsudskiego, Nowe Miasto, Zgierz, powiat zgierski, województwo łódzkie, Polska, (51.86125375, 19.416210749999998, 0.0))"
      ]
     },
     "execution_count": 7,
     "metadata": {},
     "output_type": "execute_result"
    }
   ],
   "source": [
    "location = gc.geocode('Poland, Lodz, 1 Maja Piłsudskiego', exactly_one=True)\n",
    "location"
   ]
  },
  {
   "cell_type": "code",
   "execution_count": 8,
   "metadata": {},
   "outputs": [],
   "source": [
    "def find_location_name(address):\n",
    "    try:\n",
    "        location = gc.geocode(address)\n",
    "        return location\n",
    "    except: \n",
    "        return \"NOT FOUND\"\n",
    "\n",
    "def find_location(address):\n",
    "    try:\n",
    "        location = gc.geocode(address)\n",
    "        return location[1]\n",
    "    except:\n",
    "        return \"NOT FOUND\"\n",
    "#     return {\n",
    "#             'latitude':location[1][0],\n",
    "#             'longitude':location[1][1]\n",
    "#             }"
   ]
  },
  {
   "cell_type": "code",
   "execution_count": 9,
   "metadata": {},
   "outputs": [
    {
     "data": {
      "text/plain": [
       "(51.7967101, 19.52299845769231)"
      ]
     },
     "execution_count": 9,
     "metadata": {},
     "output_type": "execute_result"
    }
   ],
   "source": [
    "location = find_location('Brzezińska Janosika, Lodz, Poland')\n",
    "location"
   ]
  },
  {
   "cell_type": "code",
   "execution_count": 10,
   "metadata": {},
   "outputs": [
    {
     "name": "stdout",
     "output_type": "stream",
     "text": [
      "Poland, Lodz, 1 Maja Piłsudskiego\n"
     ]
    },
    {
     "data": {
      "text/plain": [
       "Location(1 Maja/Piłsudskiego, Nowe Miasto, Zgierz, powiat zgierski, województwo łódzkie, Polska, (51.86125375, 19.416210749999998, 0.0))"
      ]
     },
     "execution_count": 10,
     "metadata": {},
     "output_type": "execute_result"
    }
   ],
   "source": [
    "stop = \"Poland, Lodz, \" + df.iloc[2].street_name + df.iloc[2].stop_name\n",
    "print(stop)\n",
    "find_location_name(stop)"
   ]
  },
  {
   "cell_type": "code",
   "execution_count": 11,
   "metadata": {},
   "outputs": [],
   "source": [
    "df['tempName'] = \"Poland, Lodz, \" + df['street_name'] + df['stop_name']"
   ]
  },
  {
   "cell_type": "code",
   "execution_count": 12,
   "metadata": {},
   "outputs": [
    {
     "data": {
      "text/html": [
       "<div>\n",
       "<style scoped>\n",
       "    .dataframe tbody tr th:only-of-type {\n",
       "        vertical-align: middle;\n",
       "    }\n",
       "\n",
       "    .dataframe tbody tr th {\n",
       "        vertical-align: top;\n",
       "    }\n",
       "\n",
       "    .dataframe thead th {\n",
       "        text-align: right;\n",
       "    }\n",
       "</style>\n",
       "<table border=\"1\" class=\"dataframe\">\n",
       "  <thead>\n",
       "    <tr style=\"text-align: right;\">\n",
       "      <th></th>\n",
       "      <th>street_name</th>\n",
       "      <th>stops_number</th>\n",
       "      <th>stop_name</th>\n",
       "      <th>tempName</th>\n",
       "    </tr>\n",
       "  </thead>\n",
       "  <tbody>\n",
       "    <tr>\n",
       "      <th>0</th>\n",
       "      <td>1 Maja</td>\n",
       "      <td>['3033,3032']</td>\n",
       "      <td>Dubois</td>\n",
       "      <td>Poland, Lodz, 1 Maja Dubois</td>\n",
       "    </tr>\n",
       "    <tr>\n",
       "      <th>1</th>\n",
       "      <td>1 Maja</td>\n",
       "      <td>['3303,3304']</td>\n",
       "      <td>MDK</td>\n",
       "      <td>Poland, Lodz, 1 Maja MDK</td>\n",
       "    </tr>\n",
       "    <tr>\n",
       "      <th>2</th>\n",
       "      <td>1 Maja</td>\n",
       "      <td>['3262,3034']</td>\n",
       "      <td>Piłsudskiego</td>\n",
       "      <td>Poland, Lodz, 1 Maja Piłsudskiego</td>\n",
       "    </tr>\n",
       "  </tbody>\n",
       "</table>\n",
       "</div>"
      ],
      "text/plain": [
       "  street_name   stops_number     stop_name                           tempName\n",
       "0     1 Maja   ['3033,3032']        Dubois        Poland, Lodz, 1 Maja Dubois\n",
       "1     1 Maja   ['3303,3304']           MDK           Poland, Lodz, 1 Maja MDK\n",
       "2     1 Maja   ['3262,3034']  Piłsudskiego  Poland, Lodz, 1 Maja Piłsudskiego"
      ]
     },
     "execution_count": 12,
     "metadata": {},
     "output_type": "execute_result"
    }
   ],
   "source": [
    "df.head(3)"
   ]
  },
  {
   "cell_type": "code",
   "execution_count": null,
   "metadata": {},
   "outputs": [],
   "source": [
    "df['lat/lon'] = df['tempName'] .apply(find_location)\n",
    "df['loc_name'] = df['tempName'] .apply(find_location_name)"
   ]
  },
  {
   "cell_type": "markdown",
   "metadata": {},
   "source": [
    "### TEMP DF"
   ]
  },
  {
   "cell_type": "code",
   "execution_count": 34,
   "metadata": {},
   "outputs": [
    {
     "name": "stderr",
     "output_type": "stream",
     "text": [
      "d:\\python\\lib\\site-packages\\ipykernel_launcher.py:2: SettingWithCopyWarning: \n",
      "A value is trying to be set on a copy of a slice from a DataFrame.\n",
      "Try using .loc[row_indexer,col_indexer] = value instead\n",
      "\n",
      "See the caveats in the documentation: http://pandas.pydata.org/pandas-docs/stable/user_guide/indexing.html#returning-a-view-versus-a-copy\n",
      "  \n"
     ]
    },
    {
     "data": {
      "text/html": [
       "<div>\n",
       "<style scoped>\n",
       "    .dataframe tbody tr th:only-of-type {\n",
       "        vertical-align: middle;\n",
       "    }\n",
       "\n",
       "    .dataframe tbody tr th {\n",
       "        vertical-align: top;\n",
       "    }\n",
       "\n",
       "    .dataframe thead th {\n",
       "        text-align: right;\n",
       "    }\n",
       "</style>\n",
       "<table border=\"1\" class=\"dataframe\">\n",
       "  <thead>\n",
       "    <tr style=\"text-align: right;\">\n",
       "      <th></th>\n",
       "      <th>street_name</th>\n",
       "      <th>stops_number</th>\n",
       "      <th>stop_name</th>\n",
       "      <th>tempName</th>\n",
       "    </tr>\n",
       "  </thead>\n",
       "  <tbody>\n",
       "    <tr>\n",
       "      <th>1</th>\n",
       "      <td>1 Maja</td>\n",
       "      <td>['3303,3304']</td>\n",
       "      <td>MDK (Aleksandrów)</td>\n",
       "      <td>Poland, Lodz, 1 Maja MDK (Aleksandrów)</td>\n",
       "    </tr>\n",
       "    <tr>\n",
       "      <th>2</th>\n",
       "      <td>1 Maja</td>\n",
       "      <td>['3262,3034']</td>\n",
       "      <td>Piłsudskiego (Zgierz)</td>\n",
       "      <td>Poland, Lodz, 1 Maja Piłsudskiego (Zgierz)</td>\n",
       "    </tr>\n",
       "    <tr>\n",
       "      <th>3</th>\n",
       "      <td>1 Maja</td>\n",
       "      <td>['0523']</td>\n",
       "      <td>Pogonowskiego</td>\n",
       "      <td>Poland, Lodz, 1 Maja Pogonowskiego</td>\n",
       "    </tr>\n",
       "    <tr>\n",
       "      <th>4</th>\n",
       "      <td>1 Maja</td>\n",
       "      <td>['3030']</td>\n",
       "      <td>plac Kilińskiego (Zgierz)</td>\n",
       "      <td>Poland, Lodz, 1 Maja plac Kilińskiego (Zgierz)</td>\n",
       "    </tr>\n",
       "    <tr>\n",
       "      <th>5</th>\n",
       "      <td>1 Maja</td>\n",
       "      <td>['0522']</td>\n",
       "      <td>Żeligowskiego</td>\n",
       "      <td>Poland, Lodz, 1 Maja Żeligowskiego</td>\n",
       "    </tr>\n",
       "  </tbody>\n",
       "</table>\n",
       "</div>"
      ],
      "text/plain": [
       "  street_name   stops_number                   stop_name  \\\n",
       "1     1 Maja   ['3303,3304']          MDK (Aleksandrów)    \n",
       "2     1 Maja   ['3262,3034']      Piłsudskiego (Zgierz)    \n",
       "3     1 Maja        ['0523']              Pogonowskiego    \n",
       "4     1 Maja        ['3030']  plac Kilińskiego (Zgierz)    \n",
       "5     1 Maja        ['0522']              Żeligowskiego    \n",
       "\n",
       "                                          tempName  \n",
       "1          Poland, Lodz, 1 Maja MDK (Aleksandrów)   \n",
       "2      Poland, Lodz, 1 Maja Piłsudskiego (Zgierz)   \n",
       "3              Poland, Lodz, 1 Maja Pogonowskiego   \n",
       "4  Poland, Lodz, 1 Maja plac Kilińskiego (Zgierz)   \n",
       "5              Poland, Lodz, 1 Maja Żeligowskiego   "
      ]
     },
     "execution_count": 34,
     "metadata": {},
     "output_type": "execute_result"
    }
   ],
   "source": [
    "temp_df = df.loc[1:50]\n",
    "temp_df['tempName'] = \"Poland, Lodz, \" + temp_df['street_name'] + temp_df['stop_name']\n",
    "temp_df.head()"
   ]
  },
  {
   "cell_type": "code",
   "execution_count": 35,
   "metadata": {},
   "outputs": [
    {
     "name": "stderr",
     "output_type": "stream",
     "text": [
      "d:\\python\\lib\\site-packages\\ipykernel_launcher.py:1: SettingWithCopyWarning: \n",
      "A value is trying to be set on a copy of a slice from a DataFrame.\n",
      "Try using .loc[row_indexer,col_indexer] = value instead\n",
      "\n",
      "See the caveats in the documentation: http://pandas.pydata.org/pandas-docs/stable/user_guide/indexing.html#returning-a-view-versus-a-copy\n",
      "  \"\"\"Entry point for launching an IPython kernel.\n",
      "d:\\python\\lib\\site-packages\\ipykernel_launcher.py:2: SettingWithCopyWarning: \n",
      "A value is trying to be set on a copy of a slice from a DataFrame.\n",
      "Try using .loc[row_indexer,col_indexer] = value instead\n",
      "\n",
      "See the caveats in the documentation: http://pandas.pydata.org/pandas-docs/stable/user_guide/indexing.html#returning-a-view-versus-a-copy\n",
      "  \n"
     ]
    }
   ],
   "source": [
    "temp_df['lat/lon'] = temp_df['tempName'].apply(find_location)\n",
    "temp_df['loc_name'] = temp_df['tempName'].apply(find_location_name)\n",
    "temp_df.to_csv(\"TEST.csv\")"
   ]
  }
 ],
 "metadata": {
  "kernelspec": {
   "display_name": "Python 3",
   "language": "python",
   "name": "python3"
  }
 },
 "nbformat": 4,
 "nbformat_minor": 2
}
